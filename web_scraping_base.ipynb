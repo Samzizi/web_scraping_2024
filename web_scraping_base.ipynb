{
  "cells": [
    {
      "cell_type": "code",
      "execution_count": 1,
      "metadata": {
        "colab": {
          "base_uri": "https://localhost:8080/"
        },
        "id": "yIwvW6TgN7ok",
        "outputId": "3de4e896-cf56-475a-8810-9aef72f72a7a"
      },
      "outputs": [
        {
          "name": "stdout",
          "output_type": "stream",
          "text": [
            "Coin name: Bitcoin\n",
            "Coin Short Name: BTC\n",
            "\n",
            "\n",
            "Coin name: Ethereum\n",
            "Coin Short Name: ETH\n",
            "\n",
            "\n",
            "Coin name: Tether USDt\n",
            "Coin Short Name: USDT\n",
            "\n",
            "\n",
            "Coin name: BNB\n",
            "Coin Short Name: BNB\n",
            "\n",
            "\n",
            "Coin name: Solana\n",
            "Coin Short Name: SOL\n",
            "\n",
            "\n",
            "Coin name: XRP\n",
            "Coin Short Name: XRP\n",
            "\n",
            "\n",
            "Coin name: USDC\n",
            "Coin Short Name: USDC\n",
            "\n",
            "\n",
            "Coin name: Cardano\n",
            "Coin Short Name: ADA\n",
            "\n",
            "\n",
            "Coin name: Dogecoin\n",
            "Coin Short Name: DOGE\n",
            "\n",
            "\n",
            "Coin name: Avalanche\n",
            "Coin Short Name: AVAX\n",
            "\n",
            "\n"
          ]
        }
      ],
      "source": [
        "import requests\n",
        "from bs4 import BeautifulSoup\n",
        "\n",
        "url = \"https://coinmarketcap.com/\"\n",
        "page = requests.get(url)\n",
        "\n",
        "soup = BeautifulSoup(page.content, \"html.parser\")\n",
        "\n",
        "results = soup.find(id=\"__next\")\n",
        "\n",
        "coin_details = results.find_all(\"div\", class_=\"sc-aef7b723-0 sc-adbfcfff-1 klolJt\")\n",
        "\n",
        "for coin_detail in coin_details:\n",
        "    coin_name = coin_detail.find(\"p\", class_=\"sc-4984dd93-0 kKpPOn\")\n",
        "    coin_short_name = coin_detail.find(\"p\", class_=\"sc-4984dd93-0 iqdbQL coin-item-symbol\")\n",
        "\n",
        "    print(f\"Coin name: {coin_name.text}\\nCoin Short Name: {coin_short_name.text}\\n\\n\")"
      ]
    },
    {
      "cell_type": "markdown",
      "metadata": {},
      "source": [
        "this is a very easy web scraping project i did\n",
        "you can add more to this code if you want"
      ]
    },
    {
      "cell_type": "code",
      "execution_count": null,
      "metadata": {
        "id": "6GM7hzq6N51q"
      },
      "outputs": [],
      "source": []
    },
    {
      "cell_type": "code",
      "execution_count": null,
      "metadata": {
        "id": "VPHbyFkKN5-s"
      },
      "outputs": [],
      "source": []
    },
    {
      "cell_type": "code",
      "execution_count": null,
      "metadata": {
        "id": "-IAwmDG6N6Gq"
      },
      "outputs": [],
      "source": []
    },
    {
      "cell_type": "code",
      "execution_count": null,
      "metadata": {
        "id": "pDc2xX33N6If"
      },
      "outputs": [],
      "source": []
    },
    {
      "cell_type": "code",
      "execution_count": null,
      "metadata": {
        "id": "RjD0K3wxN6KW"
      },
      "outputs": [],
      "source": []
    },
    {
      "cell_type": "code",
      "execution_count": null,
      "metadata": {
        "id": "QejAqILfN6Nq"
      },
      "outputs": [],
      "source": []
    },
    {
      "cell_type": "code",
      "execution_count": null,
      "metadata": {
        "id": "hRB9bNRlN6Wi"
      },
      "outputs": [],
      "source": []
    },
    {
      "cell_type": "code",
      "execution_count": null,
      "metadata": {
        "id": "PBFrvzn-N6YX"
      },
      "outputs": [],
      "source": []
    },
    {
      "cell_type": "code",
      "execution_count": null,
      "metadata": {
        "id": "P2lXiAUQN6Z2"
      },
      "outputs": [],
      "source": []
    },
    {
      "cell_type": "code",
      "execution_count": null,
      "metadata": {
        "id": "GzTnw1tjN6c1"
      },
      "outputs": [],
      "source": []
    },
    {
      "cell_type": "code",
      "execution_count": null,
      "metadata": {
        "id": "rI-speHAN6fH"
      },
      "outputs": [],
      "source": []
    },
    {
      "cell_type": "code",
      "execution_count": null,
      "metadata": {
        "id": "id9168q6N6iF"
      },
      "outputs": [],
      "source": []
    },
    {
      "cell_type": "code",
      "execution_count": null,
      "metadata": {
        "id": "uCgid1klN6qy"
      },
      "outputs": [],
      "source": []
    },
    {
      "cell_type": "code",
      "execution_count": null,
      "metadata": {
        "id": "Zx_3-W-GN6tM"
      },
      "outputs": [],
      "source": []
    },
    {
      "cell_type": "code",
      "execution_count": null,
      "metadata": {
        "id": "g9k2IarVN6wR"
      },
      "outputs": [],
      "source": []
    },
    {
      "cell_type": "code",
      "execution_count": null,
      "metadata": {
        "id": "mjxrltGHN6zH"
      },
      "outputs": [],
      "source": []
    }
  ],
  "metadata": {
    "colab": {
      "provenance": []
    },
    "kernelspec": {
      "display_name": "Python 3",
      "name": "python3"
    },
    "language_info": {
      "name": "python"
    }
  },
  "nbformat": 4,
  "nbformat_minor": 0
}
